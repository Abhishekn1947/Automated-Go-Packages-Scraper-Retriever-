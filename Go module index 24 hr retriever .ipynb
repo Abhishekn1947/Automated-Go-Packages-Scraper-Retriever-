{
 "cells": [
  {
   "cell_type": "code",
   "execution_count": 2,
   "id": "d698cb60",
   "metadata": {},
   "outputs": [],
   "source": [
    "import requests\n",
    "import pandas as pd\n",
    "from datetime import datetime, timedelta\n",
    "\n",
    "base_url = \"https://index.golang.org/index?\"\n",
    "\n",
    "# Set the desired date for package retrieval and watch the magic happen\n",
    "target_date = datetime(2023, 6, 11).date()\n",
    "\n",
    "# Set the starting timestamp for the target date\n",
    "start_time = datetime.combine(target_date, datetime.min.time())\n",
    "\n",
    "# Initialize an empty DataFrame to store the data\n",
    "all_data = pd.DataFrame()\n",
    "\n",
    "while True:\n",
    "    # Construct the API call URL for the current iteration\n",
    "    current_url = base_url + \"since=\" + start_time.strftime(\"%Y-%m-%dT%H:%M:%SZ\")\n",
    "    \n",
    "    # Make the API call\n",
    "    response = requests.get(current_url)\n",
    "    \n",
    "    if response.status_code == 200:\n",
    "        # Read the JSON response into a DataFrame\n",
    "        data = pd.read_json(response.text, lines=True)\n",
    "        \n",
    "        # Filter out packages from subsequent days\n",
    "        data = data[data[\"Timestamp\"].dt.date == target_date]\n",
    "        \n",
    "        # Append the current data to the overall data\n",
    "        all_data = all_data.append(data, ignore_index=True)\n",
    "        \n",
    "        # Check if there are more packages available\n",
    "        if len(data) < 2000:\n",
    "            break\n",
    "        \n",
    "        # Update the starting timestamp for the next iteration\n",
    "        start_time = data[\"Timestamp\"].iloc[-1] + timedelta(microseconds=1)\n",
    "    else:\n",
    "        print(\"Error occurred while making API call:\", response.status_code)\n",
    "        break\n",
    "\n",
    "# Remove timezone from columns\n",
    "all_data[\"Timestamp\"] = all_data[\"Timestamp\"].dt.tz_localize(None)\n",
    "\n",
    "# Save the data as an Excel file\n",
    "all_data.to_excel(\"output.xlsx\", index=False)\n"
   ]
  },
  {
   "cell_type": "code",
   "execution_count": null,
   "id": "30714ae2",
   "metadata": {},
   "outputs": [],
   "source": []
  }
 ],
 "metadata": {
  "kernelspec": {
   "display_name": "Python 3 (ipykernel)",
   "language": "python",
   "name": "python3"
  },
  "language_info": {
   "codemirror_mode": {
    "name": "ipython",
    "version": 3
   },
   "file_extension": ".py",
   "mimetype": "text/x-python",
   "name": "python",
   "nbconvert_exporter": "python",
   "pygments_lexer": "ipython3",
   "version": "3.9.7"
  }
 },
 "nbformat": 4,
 "nbformat_minor": 5
}
